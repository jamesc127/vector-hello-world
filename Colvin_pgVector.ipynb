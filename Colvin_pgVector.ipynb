{
  "cells": [
    {
      "cell_type": "markdown",
      "metadata": {
        "colab_type": "text",
        "id": "view-in-github"
      },
      "source": [
        "<a href=\"https://colab.research.google.com/github/osaeed-ds/vector-hello/blob/main/Osaeed_pgVector.ipynb\" target=\"_parent\"><img src=\"https://colab.research.google.com/assets/colab-badge.svg\" alt=\"Open In Colab\"/></a>"
      ]
    },
    {
      "cell_type": "markdown",
      "metadata": {
        "id": "0RUs9nlOEc7k"
      },
      "source": [
        "# **pgVector as a Vector Database**\n",
        "This is a hello world exercise based on the Vector Search quickstart on the LangChain website.\n",
        "https://python.langchain.com/docs/integrations/vectorstores/pgvector\n",
        "\n",
        "The dataset did not work in the example (did not specify where to get the file) so I substituted my own dataset.\n",
        "\n"
      ]
    },
    {
      "cell_type": "markdown",
      "metadata": {
        "id": "2iU-bLR8EtGY"
      },
      "source": [
        "## **Prerequisites**"
      ]
    },
    {
      "cell_type": "code",
      "execution_count": 1,
      "metadata": {
        "colab": {
          "base_uri": "https://localhost:8080/"
        },
        "id": "RypgSL-ZwoYO",
        "outputId": "096f020e-0e21-43ec-e068-0f0411b7fe34"
      },
      "outputs": [
        {
          "name": "stdout",
          "output_type": "stream",
          "text": [
            "Collecting pgVector\n",
            "  Obtaining dependency information for pgVector from https://files.pythonhosted.org/packages/fd/8c/4b469fdc27cf8538024d68b8aa40da7ebf86690f4d7f93eb118bdea174e7/pgvector-0.2.3-py2.py3-none-any.whl.metadata\n",
            "  Downloading pgvector-0.2.3-py2.py3-none-any.whl.metadata (8.4 kB)\n",
            "Requirement already satisfied: openai in /usr/local/lib/python3.10/site-packages (0.28.1)\n",
            "Requirement already satisfied: tiktoken in /usr/local/lib/python3.10/site-packages (0.5.1)\n",
            "Requirement already satisfied: langchain in /usr/local/lib/python3.10/site-packages (0.0.312)\n",
            "Collecting psycopg2-binary\n",
            "  Obtaining dependency information for psycopg2-binary from https://files.pythonhosted.org/packages/0a/7c/6aaf8c3cb05d86d2c3f407b95bac0c71a43f2718e38c1091972aacb5e1b2/psycopg2_binary-2.9.9-cp310-cp310-macosx_10_9_x86_64.whl.metadata\n",
            "  Downloading psycopg2_binary-2.9.9-cp310-cp310-macosx_10_9_x86_64.whl.metadata (4.4 kB)\n",
            "Requirement already satisfied: numpy in /usr/local/lib/python3.10/site-packages (from pgVector) (1.26.0)\n",
            "Requirement already satisfied: requests>=2.20 in /usr/local/lib/python3.10/site-packages (from openai) (2.31.0)\n",
            "Requirement already satisfied: tqdm in /usr/local/lib/python3.10/site-packages (from openai) (4.66.1)\n",
            "Requirement already satisfied: aiohttp in /usr/local/lib/python3.10/site-packages (from openai) (3.8.6)\n",
            "Requirement already satisfied: regex>=2022.1.18 in /usr/local/lib/python3.10/site-packages (from tiktoken) (2023.10.3)\n",
            "Requirement already satisfied: PyYAML>=5.3 in /usr/local/lib/python3.10/site-packages (from langchain) (6.0.1)\n",
            "Requirement already satisfied: SQLAlchemy<3,>=1.4 in /usr/local/lib/python3.10/site-packages (from langchain) (2.0.21)\n",
            "Requirement already satisfied: anyio<4.0 in /usr/local/lib/python3.10/site-packages (from langchain) (3.7.1)\n",
            "Requirement already satisfied: async-timeout<5.0.0,>=4.0.0 in /usr/local/lib/python3.10/site-packages (from langchain) (4.0.3)\n",
            "Requirement already satisfied: dataclasses-json<0.7,>=0.5.7 in /usr/local/lib/python3.10/site-packages (from langchain) (0.6.1)\n",
            "Requirement already satisfied: jsonpatch<2.0,>=1.33 in /usr/local/lib/python3.10/site-packages (from langchain) (1.33)\n",
            "Requirement already satisfied: langsmith<0.1.0,>=0.0.43 in /usr/local/lib/python3.10/site-packages (from langchain) (0.0.43)\n",
            "Requirement already satisfied: pydantic<3,>=1 in /usr/local/lib/python3.10/site-packages (from langchain) (2.4.2)\n",
            "Requirement already satisfied: tenacity<9.0.0,>=8.1.0 in /usr/local/lib/python3.10/site-packages (from langchain) (8.2.3)\n",
            "Requirement already satisfied: attrs>=17.3.0 in /usr/local/lib/python3.10/site-packages (from aiohttp->openai) (23.1.0)\n",
            "Requirement already satisfied: charset-normalizer<4.0,>=2.0 in /usr/local/lib/python3.10/site-packages (from aiohttp->openai) (3.3.0)\n",
            "Requirement already satisfied: multidict<7.0,>=4.5 in /usr/local/lib/python3.10/site-packages (from aiohttp->openai) (6.0.4)\n",
            "Requirement already satisfied: yarl<2.0,>=1.0 in /usr/local/lib/python3.10/site-packages (from aiohttp->openai) (1.9.2)\n",
            "Requirement already satisfied: frozenlist>=1.1.1 in /usr/local/lib/python3.10/site-packages (from aiohttp->openai) (1.4.0)\n",
            "Requirement already satisfied: aiosignal>=1.1.2 in /usr/local/lib/python3.10/site-packages (from aiohttp->openai) (1.3.1)\n",
            "Requirement already satisfied: idna>=2.8 in /usr/local/lib/python3.10/site-packages (from anyio<4.0->langchain) (3.4)\n",
            "Requirement already satisfied: sniffio>=1.1 in /usr/local/lib/python3.10/site-packages (from anyio<4.0->langchain) (1.3.0)\n",
            "Requirement already satisfied: exceptiongroup in /Users/james.colvin/Library/Python/3.10/lib/python/site-packages (from anyio<4.0->langchain) (1.1.3)\n",
            "Requirement already satisfied: marshmallow<4.0.0,>=3.18.0 in /usr/local/lib/python3.10/site-packages (from dataclasses-json<0.7,>=0.5.7->langchain) (3.20.1)\n",
            "Requirement already satisfied: typing-inspect<1,>=0.4.0 in /usr/local/lib/python3.10/site-packages (from dataclasses-json<0.7,>=0.5.7->langchain) (0.9.0)\n",
            "Requirement already satisfied: jsonpointer>=1.9 in /usr/local/lib/python3.10/site-packages (from jsonpatch<2.0,>=1.33->langchain) (2.4)\n",
            "Requirement already satisfied: annotated-types>=0.4.0 in /usr/local/lib/python3.10/site-packages (from pydantic<3,>=1->langchain) (0.6.0)\n",
            "Requirement already satisfied: pydantic-core==2.10.1 in /usr/local/lib/python3.10/site-packages (from pydantic<3,>=1->langchain) (2.10.1)\n",
            "Requirement already satisfied: typing-extensions>=4.6.1 in /usr/local/lib/python3.10/site-packages (from pydantic<3,>=1->langchain) (4.8.0)\n",
            "Requirement already satisfied: urllib3<3,>=1.21.1 in /usr/local/lib/python3.10/site-packages (from requests>=2.20->openai) (2.0.6)\n",
            "Requirement already satisfied: certifi>=2017.4.17 in /usr/local/lib/python3.10/site-packages (from requests>=2.20->openai) (2023.7.22)\n",
            "Requirement already satisfied: greenlet!=0.4.17 in /usr/local/lib/python3.10/site-packages (from SQLAlchemy<3,>=1.4->langchain) (3.0.0)\n",
            "Requirement already satisfied: packaging>=17.0 in /Users/james.colvin/Library/Python/3.10/lib/python/site-packages (from marshmallow<4.0.0,>=3.18.0->dataclasses-json<0.7,>=0.5.7->langchain) (23.2)\n",
            "Requirement already satisfied: mypy-extensions>=0.3.0 in /usr/local/lib/python3.10/site-packages (from typing-inspect<1,>=0.4.0->dataclasses-json<0.7,>=0.5.7->langchain) (1.0.0)\n",
            "Downloading pgvector-0.2.3-py2.py3-none-any.whl (9.3 kB)\n",
            "Downloading psycopg2_binary-2.9.9-cp310-cp310-macosx_10_9_x86_64.whl (2.8 MB)\n",
            "\u001b[2K   \u001b[90m━━━━━━━━━━━━━━━━━━━━━━━━━━━━━━━━━━━━━━━━\u001b[0m \u001b[32m2.8/2.8 MB\u001b[0m \u001b[31m7.6 MB/s\u001b[0m eta \u001b[36m0:00:00\u001b[0m00:01\u001b[0m00:01\u001b[0m\n",
            "\u001b[?25hInstalling collected packages: psycopg2-binary, pgVector\n",
            "Successfully installed pgVector-0.2.3 psycopg2-binary-2.9.9\n",
            "Note: you may need to restart the kernel to use updated packages.\n"
          ]
        }
      ],
      "source": [
        "%pip install pgVector openai tiktoken langchain psycopg2-binary"
      ]
    },
    {
      "cell_type": "code",
      "execution_count": 2,
      "metadata": {
        "id": "z3QPwu9GcK2v"
      },
      "outputs": [],
      "source": [
        "from langchain.embeddings.openai import OpenAIEmbeddings\n",
        "from langchain.text_splitter import CharacterTextSplitter\n",
        "from langchain.vectorstores import PGVector\n",
        "from langchain.document_loaders import TextLoader\n",
        "from langchain.docstore.document import Document"
      ]
    },
    {
      "cell_type": "markdown",
      "metadata": {
        "id": "mLuJYzU3Dn4-"
      },
      "source": [
        "## **Embedding Engine**\n",
        "We will use Open AI"
      ]
    },
    {
      "cell_type": "code",
      "execution_count": 3,
      "metadata": {
        "colab": {
          "base_uri": "https://localhost:8080/"
        },
        "id": "QA-f7c0FcARc",
        "outputId": "aa065134-b1f9-4d61-d804-e923bfdc6895"
      },
      "outputs": [],
      "source": [
        "import os\n",
        "import getpass\n",
        "\n",
        "os.environ[\"OPENAI_API_KEY\"] = getpass.getpass(\"OpenAI API Key:\")"
      ]
    },
    {
      "cell_type": "markdown",
      "metadata": {
        "id": "Ca0I4CHQghcH"
      },
      "source": [
        "## **Dataset**\n",
        "We will use the US Constitution as our dataset"
      ]
    },
    {
      "cell_type": "code",
      "execution_count": 4,
      "metadata": {
        "colab": {
          "base_uri": "https://localhost:8080/"
        },
        "id": "1e-__1eIdzJg",
        "outputId": "e6554698-c044-455a-cfd1-0bd4eda10522"
      },
      "outputs": [
        {
          "name": "stdout",
          "output_type": "stream",
          "text": [
            "  % Total    % Received % Xferd  Average Speed   Time    Time     Time  Current\n",
            "                                 Dload  Upload   Total   Spent    Left  Speed\n",
            "100  291k    0  291k    0     0   610k      0 --:--:-- --:--:-- --:--:-- 92263--:--:-- --:--:-- --:--:--  618k\n"
          ]
        }
      ],
      "source": [
        "!curl https://www.govinfo.gov/content/pkg/CDOC-110hdoc50/html/CDOC-110hdoc50.htm > constitution.txt"
      ]
    },
    {
      "cell_type": "markdown",
      "metadata": {
        "id": "jb7aQvXtgoVR"
      },
      "source": [
        "## **Generate Embeddings**\n",
        "Use LangChain to chunk the dataset and use OpenAI for embeddings."
      ]
    },
    {
      "cell_type": "code",
      "execution_count": 7,
      "metadata": {
        "colab": {
          "base_uri": "https://localhost:8080/"
        },
        "id": "lKnH7zE0cULn",
        "outputId": "35ce8a0a-d036-471d-cb17-508ad7a68d2c"
      },
      "outputs": [
        {
          "name": "stderr",
          "output_type": "stream",
          "text": [
            "Created a chunk of size 4562, which is longer than the specified 2000\n",
            "Created a chunk of size 21641, which is longer than the specified 2000\n",
            "Created a chunk of size 6612, which is longer than the specified 2000\n",
            "Created a chunk of size 2609, which is longer than the specified 2000\n",
            "Created a chunk of size 2239, which is longer than the specified 2000\n",
            "Created a chunk of size 2679, which is longer than the specified 2000\n",
            "Created a chunk of size 2927, which is longer than the specified 2000\n",
            "Created a chunk of size 2233, which is longer than the specified 2000\n",
            "Created a chunk of size 2149, which is longer than the specified 2000\n",
            "Created a chunk of size 2394, which is longer than the specified 2000\n",
            "Created a chunk of size 2017, which is longer than the specified 2000\n",
            "Created a chunk of size 2739, which is longer than the specified 2000\n",
            "Created a chunk of size 12487, which is longer than the specified 2000\n",
            "Created a chunk of size 3409, which is longer than the specified 2000\n",
            "Created a chunk of size 28779, which is longer than the specified 2000\n",
            "Created a chunk of size 9344, which is longer than the specified 2000\n",
            "Created a chunk of size 8742, which is longer than the specified 2000\n",
            "Created a chunk of size 2733, which is longer than the specified 2000\n",
            "Created a chunk of size 4688, which is longer than the specified 2000\n",
            "Created a chunk of size 9278, which is longer than the specified 2000\n",
            "Created a chunk of size 7108, which is longer than the specified 2000\n",
            "Created a chunk of size 5295, which is longer than the specified 2000\n",
            "Created a chunk of size 4497, which is longer than the specified 2000\n",
            "Created a chunk of size 3035, which is longer than the specified 2000\n",
            "Created a chunk of size 5293, which is longer than the specified 2000\n",
            "Created a chunk of size 23409, which is longer than the specified 2000\n",
            "Created a chunk of size 2916, which is longer than the specified 2000\n",
            "Created a chunk of size 13488, which is longer than the specified 2000\n",
            "Created a chunk of size 19609, which is longer than the specified 2000\n",
            "Created a chunk of size 9183, which is longer than the specified 2000\n",
            "Created a chunk of size 7562, which is longer than the specified 2000\n",
            "Created a chunk of size 2578, which is longer than the specified 2000\n"
          ]
        }
      ],
      "source": [
        "loader = TextLoader(\"constitution.txt\")\n",
        "\n",
        "documents = loader.load()\n",
        "text_splitter = CharacterTextSplitter(chunk_size=2000, chunk_overlap=10)\n",
        "docs = text_splitter.split_documents(documents)\n",
        "\n",
        "embeddings = OpenAIEmbeddings()"
      ]
    },
    {
      "cell_type": "markdown",
      "metadata": {
        "id": "yoq8f5j9hBed"
      },
      "source": [
        "## **Connect to pgVector and load the embeddings**"
      ]
    },
    {
      "cell_type": "code",
      "execution_count": 8,
      "metadata": {},
      "outputs": [],
      "source": [
        "os.environ[\"MYPASSWORD\"] = getpass.getpass(\"pgVector Password:\")"
      ]
    },
    {
      "cell_type": "code",
      "execution_count": 15,
      "metadata": {
        "id": "VTYStLqieMhQ"
      },
      "outputs": [],
      "source": [
        "# PGVector needs the connection string to the database.\n",
        "#CONNECTION_STRING = \"postgresql+psycopg2://harrisonchase@localhost:5432/test3\"\n",
        "#CONNECTION_STRING = PG_VECTOR_URI\n",
        "\n",
        "\n",
        "# # Alternatively, you can create it from enviornment variables.\n",
        "import os\n",
        "\n",
        "CONNECTION_STRING = PGVector.connection_string_from_db_params(\n",
        "     driver=\"psycopg2\",\n",
        "     host=\"db-postgresql-nyc3-29616-do-user-14788251-0.b.db.ondigitalocean.com\",\n",
        "     port=\"25060\",\n",
        "     database=\"\",\n",
        "     user=\"\",\n",
        "     password=\"\"\n",
        ")"
      ]
    },
    {
      "cell_type": "code",
      "execution_count": 16,
      "metadata": {
        "id": "SBWQpdwUeW2P"
      },
      "outputs": [],
      "source": [
        "# The PGVector Module will try to create a table with the name of the collection.\n",
        "# So, make sure that the collection name is unique and the user has the permission to create a table.\n",
        "\n",
        "COLLECTION_NAME = \"constitution_test\"\n",
        "\n",
        "db = PGVector.from_documents(\n",
        "    embedding=embeddings,\n",
        "    documents=docs,\n",
        "    collection_name=COLLECTION_NAME,\n",
        "    connection_string=CONNECTION_STRING,\n",
        ")"
      ]
    },
    {
      "cell_type": "markdown",
      "metadata": {
        "id": "-7jrKxcPhLnZ"
      },
      "source": [
        "## **Query the DB**"
      ]
    },
    {
      "cell_type": "code",
      "execution_count": 18,
      "metadata": {
        "id": "5qdHr7Y6f5Al"
      },
      "outputs": [
        {
          "ename": "OperationalError",
          "evalue": "(psycopg2.OperationalError) SSL SYSCALL error: EOF detected\n\n[SQL: SELECT langchain_pg_embedding.collection_id AS langchain_pg_embedding_collection_id, langchain_pg_embedding.embedding AS langchain_pg_embedding_embedding, langchain_pg_embedding.document AS langchain_pg_embedding_document, langchain_pg_embedding.cmetadata AS langchain_pg_embedding_cmetadata, langchain_pg_embedding.custom_id AS langchain_pg_embedding_custom_id, langchain_pg_embedding.uuid AS langchain_pg_embedding_uuid, langchain_pg_embedding.embedding <=> %(embedding_1)s AS distance \nFROM langchain_pg_embedding JOIN langchain_pg_collection ON langchain_pg_embedding.collection_id = langchain_pg_collection.uuid \nWHERE langchain_pg_embedding.collection_id = %(collection_id_1)s::UUID ORDER BY distance ASC \n LIMIT %(param_1)s]\n[parameters: {'embedding_1': '[-0.014787547697630717,-0.033946837026941935,0.00731476649798145,-0.004147887082933369,-0.029074714420103717,0.01660471723247188,-0.01121904754370516 ... (32585 characters truncated) ... .020594588682414892,-0.029285400068112442,-0.016157008134977616,0.027863268684424635,-0.01411598498271186,-0.017460630587890283,0.003119145409500259]', 'collection_id_1': UUID('c2c21a40-ff62-4933-b7d5-7009f33cba83'), 'param_1': 4}]\n(Background on this error at: https://sqlalche.me/e/20/e3q8)",
          "output_type": "error",
          "traceback": [
            "\u001b[0;31m---------------------------------------------------------------------------\u001b[0m",
            "\u001b[0;31mOperationalError\u001b[0m                          Traceback (most recent call last)",
            "File \u001b[0;32m/usr/local/lib/python3.10/site-packages/sqlalchemy/engine/base.py:1965\u001b[0m, in \u001b[0;36mConnection._exec_single_context\u001b[0;34m(self, dialect, context, statement, parameters)\u001b[0m\n\u001b[1;32m   1964\u001b[0m     \u001b[39mif\u001b[39;00m \u001b[39mnot\u001b[39;00m evt_handled:\n\u001b[0;32m-> 1965\u001b[0m         \u001b[39mself\u001b[39;49m\u001b[39m.\u001b[39;49mdialect\u001b[39m.\u001b[39;49mdo_execute(\n\u001b[1;32m   1966\u001b[0m             cursor, str_statement, effective_parameters, context\n\u001b[1;32m   1967\u001b[0m         )\n\u001b[1;32m   1969\u001b[0m \u001b[39mif\u001b[39;00m \u001b[39mself\u001b[39m\u001b[39m.\u001b[39m_has_events \u001b[39mor\u001b[39;00m \u001b[39mself\u001b[39m\u001b[39m.\u001b[39mengine\u001b[39m.\u001b[39m_has_events:\n",
            "File \u001b[0;32m/usr/local/lib/python3.10/site-packages/sqlalchemy/engine/default.py:921\u001b[0m, in \u001b[0;36mDefaultDialect.do_execute\u001b[0;34m(self, cursor, statement, parameters, context)\u001b[0m\n\u001b[1;32m    920\u001b[0m \u001b[39mdef\u001b[39;00m \u001b[39mdo_execute\u001b[39m(\u001b[39mself\u001b[39m, cursor, statement, parameters, context\u001b[39m=\u001b[39m\u001b[39mNone\u001b[39;00m):\n\u001b[0;32m--> 921\u001b[0m     cursor\u001b[39m.\u001b[39;49mexecute(statement, parameters)\n",
            "\u001b[0;31mOperationalError\u001b[0m: SSL SYSCALL error: EOF detected\n",
            "\nThe above exception was the direct cause of the following exception:\n",
            "\u001b[0;31mOperationalError\u001b[0m                          Traceback (most recent call last)",
            "\u001b[1;32m/Users/james.colvin/Library/Programs/vector-hello/Colvin_pgVector.ipynb Cell 17\u001b[0m line \u001b[0;36m2\n\u001b[1;32m      <a href='vscode-notebook-cell:/Users/james.colvin/Library/Programs/vector-hello/Colvin_pgVector.ipynb#X21sZmlsZQ%3D%3D?line=0'>1</a>\u001b[0m query \u001b[39m=\u001b[39m \u001b[39m\"\u001b[39m\u001b[39mWhat is the role of the Vice President?\u001b[39m\u001b[39m\"\u001b[39m\n\u001b[0;32m----> <a href='vscode-notebook-cell:/Users/james.colvin/Library/Programs/vector-hello/Colvin_pgVector.ipynb#X21sZmlsZQ%3D%3D?line=1'>2</a>\u001b[0m docs_with_score \u001b[39m=\u001b[39m db\u001b[39m.\u001b[39;49msimilarity_search_with_score(query)\n",
            "File \u001b[0;32m/usr/local/lib/python3.10/site-packages/langchain/vectorstores/pgvector.py:359\u001b[0m, in \u001b[0;36mPGVector.similarity_search_with_score\u001b[0;34m(self, query, k, filter)\u001b[0m\n\u001b[1;32m    348\u001b[0m \u001b[39m\u001b[39m\u001b[39m\"\"\"Return docs most similar to query.\u001b[39;00m\n\u001b[1;32m    349\u001b[0m \n\u001b[1;32m    350\u001b[0m \u001b[39mArgs:\u001b[39;00m\n\u001b[0;32m   (...)\u001b[0m\n\u001b[1;32m    356\u001b[0m \u001b[39m    List of Documents most similar to the query and score for each.\u001b[39;00m\n\u001b[1;32m    357\u001b[0m \u001b[39m\"\"\"\u001b[39;00m\n\u001b[1;32m    358\u001b[0m embedding \u001b[39m=\u001b[39m \u001b[39mself\u001b[39m\u001b[39m.\u001b[39membedding_function\u001b[39m.\u001b[39membed_query(query)\n\u001b[0;32m--> 359\u001b[0m docs \u001b[39m=\u001b[39m \u001b[39mself\u001b[39;49m\u001b[39m.\u001b[39;49msimilarity_search_with_score_by_vector(\n\u001b[1;32m    360\u001b[0m     embedding\u001b[39m=\u001b[39;49membedding, k\u001b[39m=\u001b[39;49mk, \u001b[39mfilter\u001b[39;49m\u001b[39m=\u001b[39;49m\u001b[39mfilter\u001b[39;49m\n\u001b[1;32m    361\u001b[0m )\n\u001b[1;32m    362\u001b[0m \u001b[39mreturn\u001b[39;00m docs\n",
            "File \u001b[0;32m/usr/local/lib/python3.10/site-packages/langchain/vectorstores/pgvector.py:384\u001b[0m, in \u001b[0;36mPGVector.similarity_search_with_score_by_vector\u001b[0;34m(self, embedding, k, filter)\u001b[0m\n\u001b[1;32m    378\u001b[0m \u001b[39mdef\u001b[39;00m \u001b[39msimilarity_search_with_score_by_vector\u001b[39m(\n\u001b[1;32m    379\u001b[0m     \u001b[39mself\u001b[39m,\n\u001b[1;32m    380\u001b[0m     embedding: List[\u001b[39mfloat\u001b[39m],\n\u001b[1;32m    381\u001b[0m     k: \u001b[39mint\u001b[39m \u001b[39m=\u001b[39m \u001b[39m4\u001b[39m,\n\u001b[1;32m    382\u001b[0m     \u001b[39mfilter\u001b[39m: Optional[\u001b[39mdict\u001b[39m] \u001b[39m=\u001b[39m \u001b[39mNone\u001b[39;00m,\n\u001b[1;32m    383\u001b[0m ) \u001b[39m-\u001b[39m\u001b[39m>\u001b[39m List[Tuple[Document, \u001b[39mfloat\u001b[39m]]:\n\u001b[0;32m--> 384\u001b[0m     results \u001b[39m=\u001b[39m \u001b[39mself\u001b[39;49m\u001b[39m.\u001b[39;49m__query_collection(embedding\u001b[39m=\u001b[39;49membedding, k\u001b[39m=\u001b[39;49mk, \u001b[39mfilter\u001b[39;49m\u001b[39m=\u001b[39;49m\u001b[39mfilter\u001b[39;49m)\n\u001b[1;32m    386\u001b[0m     \u001b[39mreturn\u001b[39;00m \u001b[39mself\u001b[39m\u001b[39m.\u001b[39m_results_to_docs_and_scores(results)\n",
            "File \u001b[0;32m/usr/local/lib/python3.10/site-packages/langchain/vectorstores/pgvector.py:450\u001b[0m, in \u001b[0;36mPGVector.__query_collection\u001b[0;34m(self, embedding, k, filter)\u001b[0m\n\u001b[1;32m    434\u001b[0m         filter_by \u001b[39m=\u001b[39m sqlalchemy\u001b[39m.\u001b[39mand_(filter_by, \u001b[39m*\u001b[39mfilter_clauses)\n\u001b[1;32m    436\u001b[0m     _type \u001b[39m=\u001b[39m \u001b[39mself\u001b[39m\u001b[39m.\u001b[39mEmbeddingStore\n\u001b[1;32m    438\u001b[0m     results: List[Any] \u001b[39m=\u001b[39m (\n\u001b[1;32m    439\u001b[0m         session\u001b[39m.\u001b[39;49mquery(\n\u001b[1;32m    440\u001b[0m             \u001b[39mself\u001b[39;49m\u001b[39m.\u001b[39;49mEmbeddingStore,\n\u001b[1;32m    441\u001b[0m             \u001b[39mself\u001b[39;49m\u001b[39m.\u001b[39;49mdistance_strategy(embedding)\u001b[39m.\u001b[39;49mlabel(\u001b[39m\"\u001b[39;49m\u001b[39mdistance\u001b[39;49m\u001b[39m\"\u001b[39;49m),  \u001b[39m# type: ignore\u001b[39;49;00m\n\u001b[1;32m    442\u001b[0m         )\n\u001b[1;32m    443\u001b[0m         \u001b[39m.\u001b[39;49mfilter(filter_by)\n\u001b[1;32m    444\u001b[0m         \u001b[39m.\u001b[39;49morder_by(sqlalchemy\u001b[39m.\u001b[39;49masc(\u001b[39m\"\u001b[39;49m\u001b[39mdistance\u001b[39;49m\u001b[39m\"\u001b[39;49m))\n\u001b[1;32m    445\u001b[0m         \u001b[39m.\u001b[39;49mjoin(\n\u001b[1;32m    446\u001b[0m             \u001b[39mself\u001b[39;49m\u001b[39m.\u001b[39;49mCollectionStore,\n\u001b[1;32m    447\u001b[0m             \u001b[39mself\u001b[39;49m\u001b[39m.\u001b[39;49mEmbeddingStore\u001b[39m.\u001b[39;49mcollection_id \u001b[39m==\u001b[39;49m \u001b[39mself\u001b[39;49m\u001b[39m.\u001b[39;49mCollectionStore\u001b[39m.\u001b[39;49muuid,\n\u001b[1;32m    448\u001b[0m         )\n\u001b[1;32m    449\u001b[0m         \u001b[39m.\u001b[39;49mlimit(k)\n\u001b[0;32m--> 450\u001b[0m         \u001b[39m.\u001b[39;49mall()\n\u001b[1;32m    451\u001b[0m     )\n\u001b[1;32m    452\u001b[0m \u001b[39mreturn\u001b[39;00m results\n",
            "File \u001b[0;32m/usr/local/lib/python3.10/site-packages/sqlalchemy/orm/query.py:2688\u001b[0m, in \u001b[0;36mQuery.all\u001b[0;34m(self)\u001b[0m\n\u001b[1;32m   2666\u001b[0m \u001b[39mdef\u001b[39;00m \u001b[39mall\u001b[39m(\u001b[39mself\u001b[39m) \u001b[39m-\u001b[39m\u001b[39m>\u001b[39m List[_T]:\n\u001b[1;32m   2667\u001b[0m \u001b[39m    \u001b[39m\u001b[39m\"\"\"Return the results represented by this :class:`_query.Query`\u001b[39;00m\n\u001b[1;32m   2668\u001b[0m \u001b[39m    as a list.\u001b[39;00m\n\u001b[1;32m   2669\u001b[0m \n\u001b[0;32m   (...)\u001b[0m\n\u001b[1;32m   2686\u001b[0m \u001b[39m        :meth:`_engine.Result.scalars` - v2 comparable method.\u001b[39;00m\n\u001b[1;32m   2687\u001b[0m \u001b[39m    \"\"\"\u001b[39;00m\n\u001b[0;32m-> 2688\u001b[0m     \u001b[39mreturn\u001b[39;00m \u001b[39mself\u001b[39;49m\u001b[39m.\u001b[39;49m_iter()\u001b[39m.\u001b[39mall()\n",
            "File \u001b[0;32m/usr/local/lib/python3.10/site-packages/sqlalchemy/orm/query.py:2842\u001b[0m, in \u001b[0;36mQuery._iter\u001b[0;34m(self)\u001b[0m\n\u001b[1;32m   2839\u001b[0m params \u001b[39m=\u001b[39m \u001b[39mself\u001b[39m\u001b[39m.\u001b[39m_params\n\u001b[1;32m   2841\u001b[0m statement \u001b[39m=\u001b[39m \u001b[39mself\u001b[39m\u001b[39m.\u001b[39m_statement_20()\n\u001b[0;32m-> 2842\u001b[0m result: Union[ScalarResult[_T], Result[_T]] \u001b[39m=\u001b[39m \u001b[39mself\u001b[39;49m\u001b[39m.\u001b[39;49msession\u001b[39m.\u001b[39;49mexecute(\n\u001b[1;32m   2843\u001b[0m     statement,\n\u001b[1;32m   2844\u001b[0m     params,\n\u001b[1;32m   2845\u001b[0m     execution_options\u001b[39m=\u001b[39;49m{\u001b[39m\"\u001b[39;49m\u001b[39m_sa_orm_load_options\u001b[39;49m\u001b[39m\"\u001b[39;49m: \u001b[39mself\u001b[39;49m\u001b[39m.\u001b[39;49mload_options},\n\u001b[1;32m   2846\u001b[0m )\n\u001b[1;32m   2848\u001b[0m \u001b[39m# legacy: automatically set scalars, unique\u001b[39;00m\n\u001b[1;32m   2849\u001b[0m \u001b[39mif\u001b[39;00m result\u001b[39m.\u001b[39m_attributes\u001b[39m.\u001b[39mget(\u001b[39m\"\u001b[39m\u001b[39mis_single_entity\u001b[39m\u001b[39m\"\u001b[39m, \u001b[39mFalse\u001b[39;00m):\n",
            "File \u001b[0;32m/usr/local/lib/python3.10/site-packages/sqlalchemy/orm/session.py:2262\u001b[0m, in \u001b[0;36mSession.execute\u001b[0;34m(self, statement, params, execution_options, bind_arguments, _parent_execute_state, _add_event)\u001b[0m\n\u001b[1;32m   2201\u001b[0m \u001b[39mdef\u001b[39;00m \u001b[39mexecute\u001b[39m(\n\u001b[1;32m   2202\u001b[0m     \u001b[39mself\u001b[39m,\n\u001b[1;32m   2203\u001b[0m     statement: Executable,\n\u001b[0;32m   (...)\u001b[0m\n\u001b[1;32m   2209\u001b[0m     _add_event: Optional[Any] \u001b[39m=\u001b[39m \u001b[39mNone\u001b[39;00m,\n\u001b[1;32m   2210\u001b[0m ) \u001b[39m-\u001b[39m\u001b[39m>\u001b[39m Result[Any]:\n\u001b[1;32m   2211\u001b[0m \u001b[39m    \u001b[39m\u001b[39mr\u001b[39m\u001b[39m\"\"\"Execute a SQL expression construct.\u001b[39;00m\n\u001b[1;32m   2212\u001b[0m \n\u001b[1;32m   2213\u001b[0m \u001b[39m    Returns a :class:`_engine.Result` object representing\u001b[39;00m\n\u001b[0;32m   (...)\u001b[0m\n\u001b[1;32m   2260\u001b[0m \n\u001b[1;32m   2261\u001b[0m \u001b[39m    \"\"\"\u001b[39;00m\n\u001b[0;32m-> 2262\u001b[0m     \u001b[39mreturn\u001b[39;00m \u001b[39mself\u001b[39;49m\u001b[39m.\u001b[39;49m_execute_internal(\n\u001b[1;32m   2263\u001b[0m         statement,\n\u001b[1;32m   2264\u001b[0m         params,\n\u001b[1;32m   2265\u001b[0m         execution_options\u001b[39m=\u001b[39;49mexecution_options,\n\u001b[1;32m   2266\u001b[0m         bind_arguments\u001b[39m=\u001b[39;49mbind_arguments,\n\u001b[1;32m   2267\u001b[0m         _parent_execute_state\u001b[39m=\u001b[39;49m_parent_execute_state,\n\u001b[1;32m   2268\u001b[0m         _add_event\u001b[39m=\u001b[39;49m_add_event,\n\u001b[1;32m   2269\u001b[0m     )\n",
            "File \u001b[0;32m/usr/local/lib/python3.10/site-packages/sqlalchemy/orm/session.py:2144\u001b[0m, in \u001b[0;36mSession._execute_internal\u001b[0;34m(self, statement, params, execution_options, bind_arguments, _parent_execute_state, _add_event, _scalar_result)\u001b[0m\n\u001b[1;32m   2139\u001b[0m     \u001b[39mreturn\u001b[39;00m conn\u001b[39m.\u001b[39mscalar(\n\u001b[1;32m   2140\u001b[0m         statement, params \u001b[39mor\u001b[39;00m {}, execution_options\u001b[39m=\u001b[39mexecution_options\n\u001b[1;32m   2141\u001b[0m     )\n\u001b[1;32m   2143\u001b[0m \u001b[39mif\u001b[39;00m compile_state_cls:\n\u001b[0;32m-> 2144\u001b[0m     result: Result[Any] \u001b[39m=\u001b[39m compile_state_cls\u001b[39m.\u001b[39;49morm_execute_statement(\n\u001b[1;32m   2145\u001b[0m         \u001b[39mself\u001b[39;49m,\n\u001b[1;32m   2146\u001b[0m         statement,\n\u001b[1;32m   2147\u001b[0m         params \u001b[39mor\u001b[39;49;00m {},\n\u001b[1;32m   2148\u001b[0m         execution_options,\n\u001b[1;32m   2149\u001b[0m         bind_arguments,\n\u001b[1;32m   2150\u001b[0m         conn,\n\u001b[1;32m   2151\u001b[0m     )\n\u001b[1;32m   2152\u001b[0m \u001b[39melse\u001b[39;00m:\n\u001b[1;32m   2153\u001b[0m     result \u001b[39m=\u001b[39m conn\u001b[39m.\u001b[39mexecute(\n\u001b[1;32m   2154\u001b[0m         statement, params \u001b[39mor\u001b[39;00m {}, execution_options\u001b[39m=\u001b[39mexecution_options\n\u001b[1;32m   2155\u001b[0m     )\n",
            "File \u001b[0;32m/usr/local/lib/python3.10/site-packages/sqlalchemy/orm/context.py:293\u001b[0m, in \u001b[0;36mAbstractORMCompileState.orm_execute_statement\u001b[0;34m(cls, session, statement, params, execution_options, bind_arguments, conn)\u001b[0m\n\u001b[1;32m    283\u001b[0m \u001b[39m@classmethod\u001b[39m\n\u001b[1;32m    284\u001b[0m \u001b[39mdef\u001b[39;00m \u001b[39morm_execute_statement\u001b[39m(\n\u001b[1;32m    285\u001b[0m     \u001b[39mcls\u001b[39m,\n\u001b[0;32m   (...)\u001b[0m\n\u001b[1;32m    291\u001b[0m     conn,\n\u001b[1;32m    292\u001b[0m ) \u001b[39m-\u001b[39m\u001b[39m>\u001b[39m Result:\n\u001b[0;32m--> 293\u001b[0m     result \u001b[39m=\u001b[39m conn\u001b[39m.\u001b[39;49mexecute(\n\u001b[1;32m    294\u001b[0m         statement, params \u001b[39mor\u001b[39;49;00m {}, execution_options\u001b[39m=\u001b[39;49mexecution_options\n\u001b[1;32m    295\u001b[0m     )\n\u001b[1;32m    296\u001b[0m     \u001b[39mreturn\u001b[39;00m \u001b[39mcls\u001b[39m\u001b[39m.\u001b[39morm_setup_cursor_result(\n\u001b[1;32m    297\u001b[0m         session,\n\u001b[1;32m    298\u001b[0m         statement,\n\u001b[0;32m   (...)\u001b[0m\n\u001b[1;32m    302\u001b[0m         result,\n\u001b[1;32m    303\u001b[0m     )\n",
            "File \u001b[0;32m/usr/local/lib/python3.10/site-packages/sqlalchemy/engine/base.py:1412\u001b[0m, in \u001b[0;36mConnection.execute\u001b[0;34m(self, statement, parameters, execution_options)\u001b[0m\n\u001b[1;32m   1410\u001b[0m     \u001b[39mraise\u001b[39;00m exc\u001b[39m.\u001b[39mObjectNotExecutableError(statement) \u001b[39mfrom\u001b[39;00m \u001b[39merr\u001b[39;00m\n\u001b[1;32m   1411\u001b[0m \u001b[39melse\u001b[39;00m:\n\u001b[0;32m-> 1412\u001b[0m     \u001b[39mreturn\u001b[39;00m meth(\n\u001b[1;32m   1413\u001b[0m         \u001b[39mself\u001b[39;49m,\n\u001b[1;32m   1414\u001b[0m         distilled_parameters,\n\u001b[1;32m   1415\u001b[0m         execution_options \u001b[39mor\u001b[39;49;00m NO_OPTIONS,\n\u001b[1;32m   1416\u001b[0m     )\n",
            "File \u001b[0;32m/usr/local/lib/python3.10/site-packages/sqlalchemy/sql/elements.py:516\u001b[0m, in \u001b[0;36mClauseElement._execute_on_connection\u001b[0;34m(self, connection, distilled_params, execution_options)\u001b[0m\n\u001b[1;32m    514\u001b[0m     \u001b[39mif\u001b[39;00m TYPE_CHECKING:\n\u001b[1;32m    515\u001b[0m         \u001b[39massert\u001b[39;00m \u001b[39misinstance\u001b[39m(\u001b[39mself\u001b[39m, Executable)\n\u001b[0;32m--> 516\u001b[0m     \u001b[39mreturn\u001b[39;00m connection\u001b[39m.\u001b[39;49m_execute_clauseelement(\n\u001b[1;32m    517\u001b[0m         \u001b[39mself\u001b[39;49m, distilled_params, execution_options\n\u001b[1;32m    518\u001b[0m     )\n\u001b[1;32m    519\u001b[0m \u001b[39melse\u001b[39;00m:\n\u001b[1;32m    520\u001b[0m     \u001b[39mraise\u001b[39;00m exc\u001b[39m.\u001b[39mObjectNotExecutableError(\u001b[39mself\u001b[39m)\n",
            "File \u001b[0;32m/usr/local/lib/python3.10/site-packages/sqlalchemy/engine/base.py:1635\u001b[0m, in \u001b[0;36mConnection._execute_clauseelement\u001b[0;34m(self, elem, distilled_parameters, execution_options)\u001b[0m\n\u001b[1;32m   1623\u001b[0m compiled_cache: Optional[CompiledCacheType] \u001b[39m=\u001b[39m execution_options\u001b[39m.\u001b[39mget(\n\u001b[1;32m   1624\u001b[0m     \u001b[39m\"\u001b[39m\u001b[39mcompiled_cache\u001b[39m\u001b[39m\"\u001b[39m, \u001b[39mself\u001b[39m\u001b[39m.\u001b[39mengine\u001b[39m.\u001b[39m_compiled_cache\n\u001b[1;32m   1625\u001b[0m )\n\u001b[1;32m   1627\u001b[0m compiled_sql, extracted_params, cache_hit \u001b[39m=\u001b[39m elem\u001b[39m.\u001b[39m_compile_w_cache(\n\u001b[1;32m   1628\u001b[0m     dialect\u001b[39m=\u001b[39mdialect,\n\u001b[1;32m   1629\u001b[0m     compiled_cache\u001b[39m=\u001b[39mcompiled_cache,\n\u001b[0;32m   (...)\u001b[0m\n\u001b[1;32m   1633\u001b[0m     linting\u001b[39m=\u001b[39m\u001b[39mself\u001b[39m\u001b[39m.\u001b[39mdialect\u001b[39m.\u001b[39mcompiler_linting \u001b[39m|\u001b[39m compiler\u001b[39m.\u001b[39mWARN_LINTING,\n\u001b[1;32m   1634\u001b[0m )\n\u001b[0;32m-> 1635\u001b[0m ret \u001b[39m=\u001b[39m \u001b[39mself\u001b[39;49m\u001b[39m.\u001b[39;49m_execute_context(\n\u001b[1;32m   1636\u001b[0m     dialect,\n\u001b[1;32m   1637\u001b[0m     dialect\u001b[39m.\u001b[39;49mexecution_ctx_cls\u001b[39m.\u001b[39;49m_init_compiled,\n\u001b[1;32m   1638\u001b[0m     compiled_sql,\n\u001b[1;32m   1639\u001b[0m     distilled_parameters,\n\u001b[1;32m   1640\u001b[0m     execution_options,\n\u001b[1;32m   1641\u001b[0m     compiled_sql,\n\u001b[1;32m   1642\u001b[0m     distilled_parameters,\n\u001b[1;32m   1643\u001b[0m     elem,\n\u001b[1;32m   1644\u001b[0m     extracted_params,\n\u001b[1;32m   1645\u001b[0m     cache_hit\u001b[39m=\u001b[39;49mcache_hit,\n\u001b[1;32m   1646\u001b[0m )\n\u001b[1;32m   1647\u001b[0m \u001b[39mif\u001b[39;00m has_events:\n\u001b[1;32m   1648\u001b[0m     \u001b[39mself\u001b[39m\u001b[39m.\u001b[39mdispatch\u001b[39m.\u001b[39mafter_execute(\n\u001b[1;32m   1649\u001b[0m         \u001b[39mself\u001b[39m,\n\u001b[1;32m   1650\u001b[0m         elem,\n\u001b[0;32m   (...)\u001b[0m\n\u001b[1;32m   1654\u001b[0m         ret,\n\u001b[1;32m   1655\u001b[0m     )\n",
            "File \u001b[0;32m/usr/local/lib/python3.10/site-packages/sqlalchemy/engine/base.py:1844\u001b[0m, in \u001b[0;36mConnection._execute_context\u001b[0;34m(self, dialect, constructor, statement, parameters, execution_options, *args, **kw)\u001b[0m\n\u001b[1;32m   1839\u001b[0m     \u001b[39mreturn\u001b[39;00m \u001b[39mself\u001b[39m\u001b[39m.\u001b[39m_exec_insertmany_context(\n\u001b[1;32m   1840\u001b[0m         dialect,\n\u001b[1;32m   1841\u001b[0m         context,\n\u001b[1;32m   1842\u001b[0m     )\n\u001b[1;32m   1843\u001b[0m \u001b[39melse\u001b[39;00m:\n\u001b[0;32m-> 1844\u001b[0m     \u001b[39mreturn\u001b[39;00m \u001b[39mself\u001b[39;49m\u001b[39m.\u001b[39;49m_exec_single_context(\n\u001b[1;32m   1845\u001b[0m         dialect, context, statement, parameters\n\u001b[1;32m   1846\u001b[0m     )\n",
            "File \u001b[0;32m/usr/local/lib/python3.10/site-packages/sqlalchemy/engine/base.py:1984\u001b[0m, in \u001b[0;36mConnection._exec_single_context\u001b[0;34m(self, dialect, context, statement, parameters)\u001b[0m\n\u001b[1;32m   1981\u001b[0m     result \u001b[39m=\u001b[39m context\u001b[39m.\u001b[39m_setup_result_proxy()\n\u001b[1;32m   1983\u001b[0m \u001b[39mexcept\u001b[39;00m \u001b[39mBaseException\u001b[39;00m \u001b[39mas\u001b[39;00m e:\n\u001b[0;32m-> 1984\u001b[0m     \u001b[39mself\u001b[39;49m\u001b[39m.\u001b[39;49m_handle_dbapi_exception(\n\u001b[1;32m   1985\u001b[0m         e, str_statement, effective_parameters, cursor, context\n\u001b[1;32m   1986\u001b[0m     )\n\u001b[1;32m   1988\u001b[0m \u001b[39mreturn\u001b[39;00m result\n",
            "File \u001b[0;32m/usr/local/lib/python3.10/site-packages/sqlalchemy/engine/base.py:2339\u001b[0m, in \u001b[0;36mConnection._handle_dbapi_exception\u001b[0;34m(self, e, statement, parameters, cursor, context, is_sub_exec)\u001b[0m\n\u001b[1;32m   2337\u001b[0m \u001b[39melif\u001b[39;00m should_wrap:\n\u001b[1;32m   2338\u001b[0m     \u001b[39massert\u001b[39;00m sqlalchemy_exception \u001b[39mis\u001b[39;00m \u001b[39mnot\u001b[39;00m \u001b[39mNone\u001b[39;00m\n\u001b[0;32m-> 2339\u001b[0m     \u001b[39mraise\u001b[39;00m sqlalchemy_exception\u001b[39m.\u001b[39mwith_traceback(exc_info[\u001b[39m2\u001b[39m]) \u001b[39mfrom\u001b[39;00m \u001b[39me\u001b[39;00m\n\u001b[1;32m   2340\u001b[0m \u001b[39melse\u001b[39;00m:\n\u001b[1;32m   2341\u001b[0m     \u001b[39massert\u001b[39;00m exc_info[\u001b[39m1\u001b[39m] \u001b[39mis\u001b[39;00m \u001b[39mnot\u001b[39;00m \u001b[39mNone\u001b[39;00m\n",
            "File \u001b[0;32m/usr/local/lib/python3.10/site-packages/sqlalchemy/engine/base.py:1965\u001b[0m, in \u001b[0;36mConnection._exec_single_context\u001b[0;34m(self, dialect, context, statement, parameters)\u001b[0m\n\u001b[1;32m   1963\u001b[0m                 \u001b[39mbreak\u001b[39;00m\n\u001b[1;32m   1964\u001b[0m     \u001b[39mif\u001b[39;00m \u001b[39mnot\u001b[39;00m evt_handled:\n\u001b[0;32m-> 1965\u001b[0m         \u001b[39mself\u001b[39;49m\u001b[39m.\u001b[39;49mdialect\u001b[39m.\u001b[39;49mdo_execute(\n\u001b[1;32m   1966\u001b[0m             cursor, str_statement, effective_parameters, context\n\u001b[1;32m   1967\u001b[0m         )\n\u001b[1;32m   1969\u001b[0m \u001b[39mif\u001b[39;00m \u001b[39mself\u001b[39m\u001b[39m.\u001b[39m_has_events \u001b[39mor\u001b[39;00m \u001b[39mself\u001b[39m\u001b[39m.\u001b[39mengine\u001b[39m.\u001b[39m_has_events:\n\u001b[1;32m   1970\u001b[0m     \u001b[39mself\u001b[39m\u001b[39m.\u001b[39mdispatch\u001b[39m.\u001b[39mafter_cursor_execute(\n\u001b[1;32m   1971\u001b[0m         \u001b[39mself\u001b[39m,\n\u001b[1;32m   1972\u001b[0m         cursor,\n\u001b[0;32m   (...)\u001b[0m\n\u001b[1;32m   1976\u001b[0m         context\u001b[39m.\u001b[39mexecutemany,\n\u001b[1;32m   1977\u001b[0m     )\n",
            "File \u001b[0;32m/usr/local/lib/python3.10/site-packages/sqlalchemy/engine/default.py:921\u001b[0m, in \u001b[0;36mDefaultDialect.do_execute\u001b[0;34m(self, cursor, statement, parameters, context)\u001b[0m\n\u001b[1;32m    920\u001b[0m \u001b[39mdef\u001b[39;00m \u001b[39mdo_execute\u001b[39m(\u001b[39mself\u001b[39m, cursor, statement, parameters, context\u001b[39m=\u001b[39m\u001b[39mNone\u001b[39;00m):\n\u001b[0;32m--> 921\u001b[0m     cursor\u001b[39m.\u001b[39;49mexecute(statement, parameters)\n",
            "\u001b[0;31mOperationalError\u001b[0m: (psycopg2.OperationalError) SSL SYSCALL error: EOF detected\n\n[SQL: SELECT langchain_pg_embedding.collection_id AS langchain_pg_embedding_collection_id, langchain_pg_embedding.embedding AS langchain_pg_embedding_embedding, langchain_pg_embedding.document AS langchain_pg_embedding_document, langchain_pg_embedding.cmetadata AS langchain_pg_embedding_cmetadata, langchain_pg_embedding.custom_id AS langchain_pg_embedding_custom_id, langchain_pg_embedding.uuid AS langchain_pg_embedding_uuid, langchain_pg_embedding.embedding <=> %(embedding_1)s AS distance \nFROM langchain_pg_embedding JOIN langchain_pg_collection ON langchain_pg_embedding.collection_id = langchain_pg_collection.uuid \nWHERE langchain_pg_embedding.collection_id = %(collection_id_1)s::UUID ORDER BY distance ASC \n LIMIT %(param_1)s]\n[parameters: {'embedding_1': '[-0.014787547697630717,-0.033946837026941935,0.00731476649798145,-0.004147887082933369,-0.029074714420103717,0.01660471723247188,-0.01121904754370516 ... (32585 characters truncated) ... .020594588682414892,-0.029285400068112442,-0.016157008134977616,0.027863268684424635,-0.01411598498271186,-0.017460630587890283,0.003119145409500259]', 'collection_id_1': UUID('c2c21a40-ff62-4933-b7d5-7009f33cba83'), 'param_1': 4}]\n(Background on this error at: https://sqlalche.me/e/20/e3q8)"
          ]
        }
      ],
      "source": [
        "query = \"What is the role of the Vice President?\"\n",
        "docs_with_score = db.similarity_search_with_score(query)"
      ]
    },
    {
      "cell_type": "code",
      "execution_count": null,
      "metadata": {
        "colab": {
          "base_uri": "https://localhost:8080/"
        },
        "id": "7XicQKktfzuD",
        "outputId": "f4177558-44e2-4c72-9a66-561ca37c731a"
      },
      "outputs": [],
      "source": [
        "for doc, score in docs_with_score:\n",
        "    print(\"-\" * 80)\n",
        "    print(\"Score: \", score)\n",
        "    print(doc.page_content)\n",
        "    print(\"-\" * 80)"
      ]
    }
  ],
  "metadata": {
    "colab": {
      "authorship_tag": "ABX9TyM0fEV6m7DZJafVkTp0/sZw",
      "include_colab_link": true,
      "provenance": []
    },
    "kernelspec": {
      "display_name": "Python 3",
      "name": "python3"
    },
    "language_info": {
      "codemirror_mode": {
        "name": "ipython",
        "version": 3
      },
      "file_extension": ".py",
      "mimetype": "text/x-python",
      "name": "python",
      "nbconvert_exporter": "python",
      "pygments_lexer": "ipython3",
      "version": "3.10.13"
    }
  },
  "nbformat": 4,
  "nbformat_minor": 0
}
